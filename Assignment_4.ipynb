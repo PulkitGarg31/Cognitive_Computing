{
  "nbformat": 4,
  "nbformat_minor": 0,
  "metadata": {
    "colab": {
      "provenance": []
    },
    "kernelspec": {
      "name": "python3",
      "display_name": "Python 3"
    },
    "language_info": {
      "name": "python"
    }
  },
  "cells": [
    {
      "cell_type": "code",
      "execution_count": 4,
      "metadata": {
        "colab": {
          "base_uri": "https://localhost:8080/"
        },
        "id": "jETwMzn0Df3b",
        "outputId": "ae97291b-1729-4b2d-dc5b-01c0744c372c"
      },
      "outputs": [
        {
          "output_type": "stream",
          "name": "stdout",
          "text": [
            "Original Array:  [1 2 3 4 5]\n",
            "Array after addition of 2:  [3 4 5 6 7]\n",
            "Array after multiplication by 3:  [ 3  6  9 12 15]\n",
            "Array after dividing by 2:  [0.5 1.  1.5 2.  2.5]\n"
          ]
        }
      ],
      "source": [
        " import numpy as np\n",
        " # Q1\n",
        " arr = np.array([1,2,3,4,5])\n",
        " print(\"Original Array: \",arr)\n",
        " print(\"Array after addition of 2: \",arr+2)\n",
        " print(\"Array after multiplication by 3: \",arr*3)\n",
        " print(\"Array after dividing by 2: \",arr/2)"
      ]
    },
    {
      "cell_type": "code",
      "source": [
        "# Q2 (a)\n",
        "arr1 = np.array([1, 2, 3, 6, 4, 5])\n",
        "reverse = arr1[::-1]\n",
        "print(\"Reversed Array: \",reverse)"
      ],
      "metadata": {
        "colab": {
          "base_uri": "https://localhost:8080/"
        },
        "id": "L5mplPuUEO4F",
        "outputId": "e99cdb11-a714-41ed-e8e4-f14c26944d34"
      },
      "execution_count": 5,
      "outputs": [
        {
          "output_type": "stream",
          "name": "stdout",
          "text": [
            "Reversed Array:  [5 4 6 3 2 1]\n"
          ]
        }
      ]
    },
    {
      "cell_type": "code",
      "source": [
        "# Q2 (b)(i)\n",
        "x = np.array([1,2,3,4,5,1,2,1,1,1])\n",
        "values, counts = np.unique(x, return_counts=True)\n",
        "most_freq_x = values[np.argmax(counts)]\n",
        "indices_x = np.where(x == most_freq_x)[0]\n",
        "print(\"Most frequent value in x:\", most_freq_x)\n",
        "print(\"Indices in x:\", indices_x)"
      ],
      "metadata": {
        "colab": {
          "base_uri": "https://localhost:8080/"
        },
        "id": "bsWyE1ehFW9p",
        "outputId": "c58e7a24-58c9-49ad-f01e-2b66f8afa6ce"
      },
      "execution_count": 14,
      "outputs": [
        {
          "output_type": "stream",
          "name": "stdout",
          "text": [
            "1\n",
            "Most frequent value in x: 1\n",
            "Indices in x: [0 5 7 8 9]\n"
          ]
        }
      ]
    },
    {
      "cell_type": "code",
      "source": [
        "# Q2 (b)(ii)\n",
        "y = np.array([1, 1, 1, 2, 3, 4, 2, 4, 3, 3, ])\n",
        "values, counts = np.unique(y, return_counts=True)\n",
        "most_freq_y = values[np.argmax(counts)]\n",
        "indices_y = np.where(y == most_freq_y)[0]\n",
        "print(\"Most frequent value in y:\", most_freq_y)\n",
        "print(\"Indices in y:\", indices_y)"
      ],
      "metadata": {
        "colab": {
          "base_uri": "https://localhost:8080/"
        },
        "id": "R6OqtQUGGGg7",
        "outputId": "9caef070-70bc-4592-aef8-495be39b5be7"
      },
      "execution_count": 15,
      "outputs": [
        {
          "output_type": "stream",
          "name": "stdout",
          "text": [
            "Most frequent value in y: 1\n",
            "Indices in y: [0 1 2]\n"
          ]
        }
      ]
    },
    {
      "cell_type": "code",
      "source": [
        "# Q3\n",
        "arr3=np.array([[10, 20, 30], [40, 50, 60], [70, 80, 90]])\n",
        "print(\"Element at (1, 2):\",arr3[0][1])\n",
        "print(\"Element at (3, 1):\",arr3[2][0])"
      ],
      "metadata": {
        "colab": {
          "base_uri": "https://localhost:8080/"
        },
        "id": "4J2d4JT1I3gz",
        "outputId": "82a7dfac-148c-43bc-c453-f72bcfbb9006"
      },
      "execution_count": 19,
      "outputs": [
        {
          "output_type": "stream",
          "name": "stdout",
          "text": [
            "Element at (1, 2): 20\n",
            "Element at (3, 1): 70\n"
          ]
        }
      ]
    },
    {
      "cell_type": "code",
      "source": [
        "# Q4\n",
        "Pulkit = np.linspace(10,100,25)\n",
        "print(\"Array:\", Pulkit)\n",
        "print(\"Shape:\", Pulkit.shape)\n",
        "print(\"Total Elements:\", Pulkit.size)\n",
        "print(\"Data Type:\", Pulkit.dtype)\n",
        "print(\"Total Bytes:\", Pulkit.nbytes)\n",
        "\n",
        "reshape = Pulkit.reshape(25, 1)\n",
        "print(\"Transposed Array using reshape:\\n\", reshape)\n",
        "\n",
        "transpose = Pulkit.T\n",
        "print(\"Transposed Array using transpose:\\n\",transpose)"
      ],
      "metadata": {
        "colab": {
          "base_uri": "https://localhost:8080/"
        },
        "id": "RUfM0o1oJa-e",
        "outputId": "419a9a22-6e66-4a02-f43d-2e97e2cde777"
      },
      "execution_count": 24,
      "outputs": [
        {
          "output_type": "stream",
          "name": "stdout",
          "text": [
            "Array: [ 10.    13.75  17.5   21.25  25.    28.75  32.5   36.25  40.    43.75\n",
            "  47.5   51.25  55.    58.75  62.5   66.25  70.    73.75  77.5   81.25\n",
            "  85.    88.75  92.5   96.25 100.  ]\n",
            "Shape: (25,)\n",
            "Total Elements: 25\n",
            "Data Type: float64\n",
            "Total Bytes: 200\n",
            "Transposed Array using reshape:\n",
            " [[ 10.  ]\n",
            " [ 13.75]\n",
            " [ 17.5 ]\n",
            " [ 21.25]\n",
            " [ 25.  ]\n",
            " [ 28.75]\n",
            " [ 32.5 ]\n",
            " [ 36.25]\n",
            " [ 40.  ]\n",
            " [ 43.75]\n",
            " [ 47.5 ]\n",
            " [ 51.25]\n",
            " [ 55.  ]\n",
            " [ 58.75]\n",
            " [ 62.5 ]\n",
            " [ 66.25]\n",
            " [ 70.  ]\n",
            " [ 73.75]\n",
            " [ 77.5 ]\n",
            " [ 81.25]\n",
            " [ 85.  ]\n",
            " [ 88.75]\n",
            " [ 92.5 ]\n",
            " [ 96.25]\n",
            " [100.  ]]\n",
            "Transposed Array using transpose:\n",
            " [ 10.    13.75  17.5   21.25  25.    28.75  32.5   36.25  40.    43.75\n",
            "  47.5   51.25  55.    58.75  62.5   66.25  70.    73.75  77.5   81.25\n",
            "  85.    88.75  92.5   96.25 100.  ]\n"
          ]
        }
      ]
    },
    {
      "cell_type": "code",
      "source": [
        "# Q5\n",
        "ucs420_Pulkit = np.array([10, 20, 30, 40, 50, 60, 70, 80, 90, 15, 20, 35])\n",
        "\n",
        "print('Mean',np.mean(ucs420_Pulkit))\n",
        "print('Median',np.median(ucs420_Pulkit))\n",
        "print('Max Element',np.max(ucs420_Pulkit))\n",
        "print('Min Element',np.min(ucs420_Pulkit))\n",
        "print('Unque Elemnts',np.unique(ucs420_Pulkit))\n",
        "\n",
        "reshaped_ucs420_Pulkit = ucs420_Pulkit.reshape(4, 3)\n",
        "print('Reshaped Array:\\n', reshaped_ucs420_Pulkit)\n",
        "\n",
        "resized_ucs420_Pulkit = np.resize(ucs420_Pulkit, (2, 3))\n",
        "print('Resized Array:\\n', resized_ucs420_Pulkit)"
      ],
      "metadata": {
        "colab": {
          "base_uri": "https://localhost:8080/"
        },
        "id": "nhgX6OirKKEo",
        "outputId": "e7b19025-c6f1-451c-b21c-234efb416761"
      },
      "execution_count": 28,
      "outputs": [
        {
          "output_type": "stream",
          "name": "stdout",
          "text": [
            "Mean 43.333333333333336\n",
            "Median 37.5\n",
            "Max Element 90\n",
            "Min Element 10\n",
            "Unque Elemnts [10 15 20 30 35 40 50 60 70 80 90]\n",
            "Reshaped Array:\n",
            " [[10 20 30]\n",
            " [40 50 60]\n",
            " [70 80 90]\n",
            " [15 20 35]]\n",
            "Resized Array:\n",
            " [[10 20 30]\n",
            " [40 50 60]]\n"
          ]
        }
      ]
    },
    {
      "cell_type": "code",
      "source": [],
      "metadata": {
        "id": "v4yEegEdLPyg"
      },
      "execution_count": null,
      "outputs": []
    }
  ]
}
