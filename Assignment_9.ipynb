{
  "nbformat": 4,
  "nbformat_minor": 0,
  "metadata": {
    "colab": {
      "provenance": []
    },
    "kernelspec": {
      "name": "python3",
      "display_name": "Python 3"
    },
    "language_info": {
      "name": "python"
    }
  },
  "cells": [
    {
      "cell_type": "code",
      "execution_count": 7,
      "metadata": {
        "colab": {
          "base_uri": "https://localhost:8080/"
        },
        "id": "ow-P9g4tr1i7",
        "outputId": "388077a6-ce0b-4aaf-a27c-2e7e94c70e1c"
      },
      "outputs": [
        {
          "output_type": "stream",
          "name": "stderr",
          "text": [
            "[nltk_data] Downloading package punkt to /root/nltk_data...\n",
            "[nltk_data]   Package punkt is already up-to-date!\n",
            "[nltk_data] Downloading package stopwords to /root/nltk_data...\n",
            "[nltk_data]   Package stopwords is already up-to-date!\n",
            "[nltk_data] Downloading package wordnet to /root/nltk_data...\n",
            "[nltk_data]   Package wordnet is already up-to-date!\n",
            "[nltk_data] Downloading package punkt_tab to /root/nltk_data...\n",
            "[nltk_data]   Unzipping tokenizers/punkt_tab.zip.\n"
          ]
        },
        {
          "output_type": "execute_result",
          "data": {
            "text/plain": [
              "True"
            ]
          },
          "metadata": {},
          "execution_count": 7
        }
      ],
      "source": [
        "import re\n",
        "import nltk\n",
        "from nltk.tokenize import word_tokenize, sent_tokenize\n",
        "from nltk.corpus import stopwords\n",
        "from nltk.stem import PorterStemmer, LancasterStemmer, WordNetLemmatizer\n",
        "from collections import Counter\n",
        "\n",
        "nltk.download('punkt')\n",
        "nltk.download('stopwords')\n",
        "nltk.download('wordnet')\n",
        "nltk.download('punkt_tab')"
      ]
    },
    {
      "cell_type": "code",
      "source": [
        "paragraph =\"In recent years, remote work has completely reshaped how many of us go about our daily lives. Instead of long commutes and office desks, people are working from their kitchens, living rooms, or even local coffee shops. It’s made juggling personal responsibilities and professional tasks a bit more manageable for some, while others miss the structure and social side of the traditional workplace. Video calls, messaging apps, and flexible hours have become the norm, and they’re changing not just how we work, but how we live. Still, finding that balance between being “on” for work and having personal time is something many are still figuring out.\""
      ],
      "metadata": {
        "id": "vKAijAS8sH-p"
      },
      "execution_count": 8,
      "outputs": []
    },
    {
      "cell_type": "code",
      "source": [
        "print(\"Original Text:\")\n",
        "print(paragraph)"
      ],
      "metadata": {
        "colab": {
          "base_uri": "https://localhost:8080/"
        },
        "id": "FEOfjysdsgRL",
        "outputId": "7b94e3f0-e545-40d6-c1d3-dbfa075c9b33"
      },
      "execution_count": 9,
      "outputs": [
        {
          "output_type": "stream",
          "name": "stdout",
          "text": [
            "Original Text:\n",
            "In recent years, remote work has completely reshaped how many of us go about our daily lives. Instead of long commutes and office desks, people are working from their kitchens, living rooms, or even local coffee shops. It’s made juggling personal responsibilities and professional tasks a bit more manageable for some, while others miss the structure and social side of the traditional workplace. Video calls, messaging apps, and flexible hours have become the norm, and they’re changing not just how we work, but how we live. Still, finding that balance between being “on” for work and having personal time is something many are still figuring out.\n"
          ]
        }
      ]
    },
    {
      "cell_type": "code",
      "source": [
        "lowercase_text = paragraph.lower()\n",
        "no_punct_text = re.sub(r'[^\\w\\s]', '', lowercase_text)\n",
        "print(\"Lowercase without punctuation:\")\n",
        "print(no_punct_text)\n"
      ],
      "metadata": {
        "colab": {
          "base_uri": "https://localhost:8080/"
        },
        "id": "ohz4igTBsjFI",
        "outputId": "e9facf5a-4bf2-41d5-c5a6-f6d01e5dbdc8"
      },
      "execution_count": 10,
      "outputs": [
        {
          "output_type": "stream",
          "name": "stdout",
          "text": [
            "Lowercase without punctuation:\n",
            "in recent years remote work has completely reshaped how many of us go about our daily lives instead of long commutes and office desks people are working from their kitchens living rooms or even local coffee shops its made juggling personal responsibilities and professional tasks a bit more manageable for some while others miss the structure and social side of the traditional workplace video calls messaging apps and flexible hours have become the norm and theyre changing not just how we work but how we live still finding that balance between being on for work and having personal time is something many are still figuring out\n"
          ]
        }
      ]
    },
    {
      "cell_type": "code",
      "source": [
        "sentences = sent_tokenize(paragraph)\n",
        "words = word_tokenize(no_punct_text)\n",
        "\n",
        "print(\"\\nSentences tokenization:\")\n",
        "for i, sentence in enumerate(sentences):\n",
        "    print(f\"Sentence {i+1}: {sentence}\")\n",
        "\n",
        "print(\"\\nWord tokenization (first 20 words):\")\n",
        "print(words[:20])"
      ],
      "metadata": {
        "colab": {
          "base_uri": "https://localhost:8080/"
        },
        "id": "7Hi7Tz9Jsqc4",
        "outputId": "dc521fb6-482f-45d7-9c33-91623ae96e81"
      },
      "execution_count": 11,
      "outputs": [
        {
          "output_type": "stream",
          "name": "stdout",
          "text": [
            "\n",
            "Sentences tokenization:\n",
            "Sentence 1: In recent years, remote work has completely reshaped how many of us go about our daily lives.\n",
            "Sentence 2: Instead of long commutes and office desks, people are working from their kitchens, living rooms, or even local coffee shops.\n",
            "Sentence 3: It’s made juggling personal responsibilities and professional tasks a bit more manageable for some, while others miss the structure and social side of the traditional workplace.\n",
            "Sentence 4: Video calls, messaging apps, and flexible hours have become the norm, and they’re changing not just how we work, but how we live.\n",
            "Sentence 5: Still, finding that balance between being “on” for work and having personal time is something many are still figuring out.\n",
            "\n",
            "Word tokenization (first 20 words):\n",
            "['in', 'recent', 'years', 'remote', 'work', 'has', 'completely', 'reshaped', 'how', 'many', 'of', 'us', 'go', 'about', 'our', 'daily', 'lives', 'instead', 'of', 'long']\n"
          ]
        }
      ]
    },
    {
      "cell_type": "code",
      "source": [
        "stop_words = set(stopwords.words('english'))\n",
        "filtered_words = [word for word in words if word not in stop_words]\n",
        "\n",
        "print(\"\\nAfter stopword removal (first 15 words):\")\n",
        "print(filtered_words[:15])"
      ],
      "metadata": {
        "colab": {
          "base_uri": "https://localhost:8080/"
        },
        "id": "7MXpYOWqsu7y",
        "outputId": "69b52576-f119-4b2a-cb95-20ce8cdadf33"
      },
      "execution_count": 12,
      "outputs": [
        {
          "output_type": "stream",
          "name": "stdout",
          "text": [
            "\n",
            "After stopword removal (first 15 words):\n",
            "['recent', 'years', 'remote', 'work', 'completely', 'reshaped', 'many', 'us', 'go', 'daily', 'lives', 'instead', 'long', 'commutes', 'office']\n"
          ]
        }
      ]
    },
    {
      "cell_type": "code",
      "source": [
        "word_freq = Counter(filtered_words)\n",
        "print(\"\\nWord frequency distribution (top 10):\")\n",
        "for word, freq in word_freq.most_common(10):\n",
        "    print(f\"{word}: {freq}\")"
      ],
      "metadata": {
        "colab": {
          "base_uri": "https://localhost:8080/"
        },
        "id": "zFtY-CuVtCX3",
        "outputId": "f3a99c19-e9c6-4ef7-a603-8286addba9f2"
      },
      "execution_count": 13,
      "outputs": [
        {
          "output_type": "stream",
          "name": "stdout",
          "text": [
            "\n",
            "Word frequency distribution (top 10):\n",
            "work: 3\n",
            "many: 2\n",
            "personal: 2\n",
            "still: 2\n",
            "recent: 1\n",
            "years: 1\n",
            "remote: 1\n",
            "completely: 1\n",
            "reshaped: 1\n",
            "us: 1\n"
          ]
        }
      ]
    },
    {
      "cell_type": "code",
      "source": [
        "porter = PorterStemmer()\n",
        "lancaster = LancasterStemmer()\n",
        "lemmatizer = WordNetLemmatizer()"
      ],
      "metadata": {
        "id": "Zu1oc2LGtFHK"
      },
      "execution_count": 14,
      "outputs": []
    },
    {
      "cell_type": "code",
      "source": [
        "print(\"Words after stopword removal:\")\n",
        "print(filtered_words[:10], \"...\\n\")"
      ],
      "metadata": {
        "colab": {
          "base_uri": "https://localhost:8080/"
        },
        "id": "xvbW52DttITb",
        "outputId": "a0f09373-176e-4b48-dd92-0107ce89bc3f"
      },
      "execution_count": 15,
      "outputs": [
        {
          "output_type": "stream",
          "name": "stdout",
          "text": [
            "Words after stopword removal:\n",
            "['recent', 'years', 'remote', 'work', 'completely', 'reshaped', 'many', 'us', 'go', 'daily'] ...\n",
            "\n"
          ]
        }
      ]
    },
    {
      "cell_type": "code",
      "source": [
        "porter_stems = [porter.stem(word) for word in filtered_words]\n",
        "lancaster_stems = [lancaster.stem(word) for word in filtered_words]"
      ],
      "metadata": {
        "id": "LJwDZo28tKRk"
      },
      "execution_count": 16,
      "outputs": []
    },
    {
      "cell_type": "code",
      "source": [
        "lemmatized_words = [lemmatizer.lemmatize(word) for word in filtered_words]"
      ],
      "metadata": {
        "id": "sfxyZu88tMkq"
      },
      "execution_count": 17,
      "outputs": []
    },
    {
      "cell_type": "code",
      "source": [
        "print(\"Comparison of stemming and lemmatization (first 15 words):\")\n",
        "print(\"{:<15} {:<15} {:<15} {:<15}\".format(\"Original\", \"Porter\", \"Lancaster\", \"WordNet\"))\n",
        "print(\"-\" * 60)\n",
        "for i in range(15):\n",
        "    print(\"{:<15} {:<15} {:<15} {:<15}\".format(\n",
        "        filtered_words[i],\n",
        "        porter_stems[i],\n",
        "        lancaster_stems[i],\n",
        "        lemmatized_words[i]\n",
        "    ))"
      ],
      "metadata": {
        "colab": {
          "base_uri": "https://localhost:8080/"
        },
        "id": "SIUTZrXXtPQm",
        "outputId": "62ebbcae-e23d-499a-c63f-7b7acb8242b8"
      },
      "execution_count": 18,
      "outputs": [
        {
          "output_type": "stream",
          "name": "stdout",
          "text": [
            "Comparison of stemming and lemmatization (first 15 words):\n",
            "Original        Porter          Lancaster       WordNet        \n",
            "------------------------------------------------------------\n",
            "recent          recent          rec             recent         \n",
            "years           year            year            year           \n",
            "remote          remot           remot           remote         \n",
            "work            work            work            work           \n",
            "completely      complet         complet         completely     \n",
            "reshaped        reshap          reshap          reshaped       \n",
            "many            mani            many            many           \n",
            "us              us              us              u              \n",
            "go              go              go              go             \n",
            "daily           daili           dai             daily          \n",
            "lives           live            liv             life           \n",
            "instead         instead         instead         instead        \n",
            "long            long            long            long           \n",
            "commutes        commut          commut          commute        \n",
            "office          offic           off             office         \n"
          ]
        }
      ]
    },
    {
      "cell_type": "code",
      "source": [
        "print(\"Original text:\")\n",
        "print(paragraph[:100], \"...\\n\")"
      ],
      "metadata": {
        "colab": {
          "base_uri": "https://localhost:8080/"
        },
        "id": "twQrSq3MtTea",
        "outputId": "52607351-9fb4-488d-8021-e4437816f6d7"
      },
      "execution_count": 19,
      "outputs": [
        {
          "output_type": "stream",
          "name": "stdout",
          "text": [
            "Original text:\n",
            "In recent years, remote work has completely reshaped how many of us go about our daily lives. Instea ...\n",
            "\n"
          ]
        }
      ]
    },
    {
      "cell_type": "code",
      "source": [
        "long_words = re.findall(r'\\b\\w{6,}\\b', paragraph)\n",
        "print(\"Words with more than 5 letters:\")\n",
        "print(long_words[:10], \"...\\n\")"
      ],
      "metadata": {
        "colab": {
          "base_uri": "https://localhost:8080/"
        },
        "id": "Iatlg_G1tW59",
        "outputId": "fb43a65a-fd6f-4678-f7cd-79e337031657"
      },
      "execution_count": 20,
      "outputs": [
        {
          "output_type": "stream",
          "name": "stdout",
          "text": [
            "Words with more than 5 letters:\n",
            "['recent', 'remote', 'completely', 'reshaped', 'Instead', 'commutes', 'office', 'people', 'working', 'kitchens'] ...\n",
            "\n"
          ]
        }
      ]
    },
    {
      "cell_type": "code",
      "source": [
        "numbers = re.findall(r'\\b\\d+\\b', paragraph)\n",
        "print(\"Numbers found in text:\")\n",
        "print(numbers if numbers else \"No numbers found in the text.\\n\")"
      ],
      "metadata": {
        "colab": {
          "base_uri": "https://localhost:8080/"
        },
        "id": "S8E2gumhtY9m",
        "outputId": "a65fa675-3648-408e-f52f-2a5f5e3f66a5"
      },
      "execution_count": 21,
      "outputs": [
        {
          "output_type": "stream",
          "name": "stdout",
          "text": [
            "Numbers found in text:\n",
            "No numbers found in the text.\n",
            "\n"
          ]
        }
      ]
    },
    {
      "cell_type": "code",
      "source": [
        "number_text = \"AI research has grown by 200% since 2010, with over 50,000 papers published and 123 major breakthroughs.\"\n",
        "numbers = re.findall(r'\\b\\d+\\b', number_text)\n",
        "print(\"Numbers in demo sentence:\")\n",
        "print(numbers, \"\\n\")"
      ],
      "metadata": {
        "colab": {
          "base_uri": "https://localhost:8080/"
        },
        "id": "7S0ZXwVZtbbL",
        "outputId": "b43922dd-c9ab-4922-db22-4d3c09995e7e"
      },
      "execution_count": 22,
      "outputs": [
        {
          "output_type": "stream",
          "name": "stdout",
          "text": [
            "Numbers in demo sentence:\n",
            "['200', '2010', '50', '000', '123'] \n",
            "\n"
          ]
        }
      ]
    },
    {
      "cell_type": "code",
      "source": [
        "cap_words = re.findall(r'\\b[A-Z][a-zA-Z]*\\b', paragraph)\n",
        "print(\"Capitalized words:\")\n",
        "print(cap_words, \"\\n\")"
      ],
      "metadata": {
        "colab": {
          "base_uri": "https://localhost:8080/"
        },
        "id": "3slb6__Utdef",
        "outputId": "0908d416-3595-4aa3-bf6e-834d26c455a8"
      },
      "execution_count": 23,
      "outputs": [
        {
          "output_type": "stream",
          "name": "stdout",
          "text": [
            "Capitalized words:\n",
            "['In', 'Instead', 'It', 'Video', 'Still'] \n",
            "\n"
          ]
        }
      ]
    },
    {
      "cell_type": "code",
      "source": [
        "alpha_only = re.findall(r'\\b[a-zA-Z]+\\b', paragraph)\n",
        "print(\"Words containing only alphabets (first 10):\")\n",
        "print(alpha_only[:10], \"...\\n\")"
      ],
      "metadata": {
        "colab": {
          "base_uri": "https://localhost:8080/"
        },
        "id": "A1xT_rXftfpb",
        "outputId": "d3ea8b0b-eeea-4afa-fe78-b6cef8ebc631"
      },
      "execution_count": 24,
      "outputs": [
        {
          "output_type": "stream",
          "name": "stdout",
          "text": [
            "Words containing only alphabets (first 10):\n",
            "['In', 'recent', 'years', 'remote', 'work', 'has', 'completely', 'reshaped', 'how', 'many'] ...\n",
            "\n"
          ]
        }
      ]
    },
    {
      "cell_type": "code",
      "source": [
        "vowel_words = re.findall(r'\\b[aeiouAEIOU][a-zA-Z]*\\b', paragraph)\n",
        "print(\"Words starting with a vowel:\")\n",
        "print(vowel_words, \"\\n\")"
      ],
      "metadata": {
        "colab": {
          "base_uri": "https://localhost:8080/"
        },
        "id": "ILBPo_dEthwO",
        "outputId": "99e46c58-b9c4-4350-fdec-5354df7cbf78"
      },
      "execution_count": 25,
      "outputs": [
        {
          "output_type": "stream",
          "name": "stdout",
          "text": [
            "Words starting with a vowel:\n",
            "['In', 'of', 'us', 'about', 'our', 'Instead', 'of', 'and', 'office', 'are', 'or', 'even', 'It', 'and', 'a', 'others', 'and', 'of', 'apps', 'and', 'and', 'on', 'and', 'is', 'are', 'out'] \n",
            "\n"
          ]
        }
      ]
    },
    {
      "cell_type": "code",
      "source": [
        "sample_text = paragraph + \"\"\"\n",
        "Natural Language Processing (NLP) is a field in AI. It's becoming more advanced with state-of-the-art techniques.\n",
        "Many people use emails like user@example.com for communication.\n",
        "Websites like https://www.example.com provide resources on NLP.\n",
        "For inquiries, call us at +91 9876543210 or 123-456-7890.\n",
        "The value of π is approximately 3.14159.\n",
        "\"\"\"\n",
        "def custom_tokenize(text):\n",
        "\n",
        "    text = re.sub(r\"(\\w+)'(\\w+)\", r\"\\1'_\\2\", text)\n",
        "    text = re.sub(r\"(\\w+)-(\\w+)-(\\w+)\", r\"\\1-\\2-\\3_\", text)\n",
        "    text = re.sub(r\"(\\w+)-(\\w+)\", r\"\\1-\\2_\", text)\n",
        "    text = re.sub(r\"(\\d+)\\.(\\d+)\", r\"\\1_DOT_\\2\", text)\n",
        "    text = re.sub(r'[^\\w\\s\\'_]', ' ', text)\n",
        "    tokens = text.split()\n",
        "    tokens = [token.replace(\"'_\", \"'\").replace(\"-\", \"-\").replace(\"_DOT_\", \".\").replace(\"_\", \"\") for token in tokens]\n",
        "    return tokens\n",
        "\n",
        "tokens = custom_tokenize(sample_text)\n",
        "print(\"\\nCustom tokenization results:\")\n",
        "print(tokens, \"\\n\")"
      ],
      "metadata": {
        "colab": {
          "base_uri": "https://localhost:8080/"
        },
        "id": "wiGioh7vtoYU",
        "outputId": "129dc2df-3be2-4c65-f18f-c83867f32901"
      },
      "execution_count": 30,
      "outputs": [
        {
          "output_type": "stream",
          "name": "stdout",
          "text": [
            "\n",
            "Custom tokenization results:\n",
            "['In', 'recent', 'years', 'remote', 'work', 'has', 'completely', 'reshaped', 'how', 'many', 'of', 'us', 'go', 'about', 'our', 'daily', 'lives', 'Instead', 'of', 'long', 'commutes', 'and', 'office', 'desks', 'people', 'are', 'working', 'from', 'their', 'kitchens', 'living', 'rooms', 'or', 'even', 'local', 'coffee', 'shops', 'It', 's', 'made', 'juggling', 'personal', 'responsibilities', 'and', 'professional', 'tasks', 'a', 'bit', 'more', 'manageable', 'for', 'some', 'while', 'others', 'miss', 'the', 'structure', 'and', 'social', 'side', 'of', 'the', 'traditional', 'workplace', 'Video', 'calls', 'messaging', 'apps', 'and', 'flexible', 'hours', 'have', 'become', 'the', 'norm', 'and', 'they', 're', 'changing', 'not', 'just', 'how', 'we', 'work', 'but', 'how', 'we', 'live', 'Still', 'finding', 'that', 'balance', 'between', 'being', 'on', 'for', 'work', 'and', 'having', 'personal', 'time', 'is', 'something', 'many', 'are', 'still', 'figuring', 'out', 'Natural', 'Language', 'Processing', 'NLP', 'is', 'a', 'field', 'in', 'AI', \"It's\", 'becoming', 'more', 'advanced', 'with', 'state', 'of', 'the', 'art', 'techniques', 'Many', 'people', 'use', 'emails', 'like', 'user', 'example', 'com', 'for', 'communication', 'Websites', 'like', 'https', 'www', 'example', 'com', 'provide', 'resources', 'on', 'NLP', 'For', 'inquiries', 'call', 'us', 'at', '91', '9876543210', 'or', '123', '456', '7890', 'The', 'value', 'of', 'π', 'is', 'approximately', '3.14159'] \n",
            "\n"
          ]
        }
      ]
    },
    {
      "cell_type": "code",
      "source": [
        "email_replaced = re.sub(r'\\b[A-Za-z0-9._%+-]+@[A-Za-z0-9.-]+\\.[A-Z|a-z]{2,}\\b', '<EMAIL>', sample_text)"
      ],
      "metadata": {
        "id": "EQUsfV4auJ7I"
      },
      "execution_count": 31,
      "outputs": []
    },
    {
      "cell_type": "code",
      "source": [
        "url_replaced = re.sub(r'https?://(?:[-\\w.]|(?:%[\\da-fA-F]{2}))+', '<URL>', email_replaced)"
      ],
      "metadata": {
        "id": "e91PzNFoupjA"
      },
      "execution_count": 32,
      "outputs": []
    },
    {
      "cell_type": "code",
      "source": [
        "phone_replaced = re.sub(r'(\\+\\d{1,3}\\s)?\\d{10}|\\d{3}-\\d{3}-\\d{4}', '<PHONE>', url_replaced)\n",
        "\n",
        "print(\"Text after regex substitutions:\")\n",
        "print(phone_replaced)"
      ],
      "metadata": {
        "colab": {
          "base_uri": "https://localhost:8080/"
        },
        "id": "1dUl_BcYuqlH",
        "outputId": "5d1b06d5-cfbd-4352-80f2-5019842ede29"
      },
      "execution_count": 33,
      "outputs": [
        {
          "output_type": "stream",
          "name": "stdout",
          "text": [
            "Text after regex substitutions:\n",
            "In recent years, remote work has completely reshaped how many of us go about our daily lives. Instead of long commutes and office desks, people are working from their kitchens, living rooms, or even local coffee shops. It’s made juggling personal responsibilities and professional tasks a bit more manageable for some, while others miss the structure and social side of the traditional workplace. Video calls, messaging apps, and flexible hours have become the norm, and they’re changing not just how we work, but how we live. Still, finding that balance between being “on” for work and having personal time is something many are still figuring out.\n",
            "Natural Language Processing (NLP) is a field in AI. It's becoming more advanced with state-of-the-art techniques.\n",
            "Many people use emails like <EMAIL> for communication. \n",
            "Websites like <URL> provide resources on NLP.\n",
            "For inquiries, call us at <PHONE> or <PHONE>.\n",
            "The value of π is approximately 3.14159.\n",
            "\n"
          ]
        }
      ]
    },
    {
      "cell_type": "code",
      "source": [],
      "metadata": {
        "id": "z1gzpY6yuslV"
      },
      "execution_count": null,
      "outputs": []
    }
  ]
}