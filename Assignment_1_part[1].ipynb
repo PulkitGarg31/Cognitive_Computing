{
 "cells": [
  {
   "cell_type": "code",
   "execution_count": 2,
   "id": "864ab2e3-06fb-4140-9cf5-19bc8aaeeb86",
   "metadata": {},
   "outputs": [
    {
     "name": "stdout",
     "output_type": "stream",
     "text": [
      "Muskraye Aap Thapar me ha\n"
     ]
    }
   ],
   "source": [
    "#1\n",
    "print(\"Muskraye Aap Thapar me ha\")"
   ]
  },
  {
   "cell_type": "code",
   "execution_count": 3,
   "id": "14cb3176-ea7f-4fd1-b2d1-37709faa5cd1",
   "metadata": {},
   "outputs": [
    {
     "name": "stdout",
     "output_type": "stream",
     "text": [
      "15\n"
     ]
    }
   ],
   "source": [
    "#2.1\n",
    "a= 10\n",
    "b= 5\n",
    "print(a+b)"
   ]
  },
  {
   "cell_type": "code",
   "execution_count": 4,
   "id": "1a40d541-31f6-4cd4-89d2-98edd0162b28",
   "metadata": {},
   "outputs": [
    {
     "name": "stdout",
     "output_type": "stream",
     "text": [
      "Hello World\n"
     ]
    }
   ],
   "source": [
    "# 2.2\n",
    "str1=\"Hello\"\n",
    "str2=\" World\"\n",
    "print(str1+str2)"
   ]
  },
  {
   "cell_type": "code",
   "execution_count": 5,
   "id": "4d6dbf7b-3829-4564-b664-534003b01c89",
   "metadata": {},
   "outputs": [
    {
     "name": "stdout",
     "output_type": "stream",
     "text": [
      "What2Do\n"
     ]
    }
   ],
   "source": [
    "# 2.3\n",
    "str3=\"What\"\n",
    "str4=\"Do\"\n",
    "num=2\n",
    "num=str(num)\n",
    "print(str3+num+str4)"
   ]
  },
  {
   "cell_type": "code",
   "execution_count": 6,
   "id": "5f0bbfa9-11c9-4bc6-a2cb-3ea18a9f9c78",
   "metadata": {},
   "outputs": [
    {
     "name": "stdin",
     "output_type": "stream",
     "text": [
      "Enter a number:  34\n"
     ]
    },
    {
     "name": "stdout",
     "output_type": "stream",
     "text": [
      "Number is positive.\n"
     ]
    }
   ],
   "source": [
    "# 3.1\n",
    "num=int(input('Enter a number: '))\n",
    "if num<0:\n",
    "    print('Number is negative.')\n",
    "elif num>0:\n",
    "    print('Number is positive.')\n",
    "else:\n",
    "    print('Number is 0!!')\n",
    "    "
   ]
  },
  {
   "cell_type": "raw",
   "id": "846b5aef-ef33-4b85-b544-978faa40a465",
   "metadata": {},
   "source": [
    "# 3.2\n",
    "n=int(input('Enter a number: '))\n",
    "if n%2==0:\n",
    "    print('Number is Even.')\n",
    "else:\n",
    "    print('Number is Odd')"
   ]
  },
  {
   "cell_type": "code",
   "execution_count": 8,
   "id": "36a22c27-17a8-4cfc-b346-7f8d775c45a8",
   "metadata": {},
   "outputs": [
    {
     "name": "stdout",
     "output_type": "stream",
     "text": [
      "1\n",
      "2\n",
      "3\n",
      "4\n",
      "5\n",
      "6\n",
      "7\n",
      "8\n",
      "9\n",
      "10\n"
     ]
    }
   ],
   "source": [
    "# 4.1\n",
    "for number in range(1,11):\n",
    "    print(number)"
   ]
  },
  {
   "cell_type": "code",
   "execution_count": 10,
   "id": "6cef241f-1bfa-4f4f-abf5-24f535a2675e",
   "metadata": {},
   "outputs": [
    {
     "name": "stdout",
     "output_type": "stream",
     "text": [
      "1\n",
      "2\n",
      "3\n",
      "4\n",
      "5\n",
      "6\n",
      "7\n",
      "8\n",
      "9\n",
      "10\n"
     ]
    }
   ],
   "source": [
    "# 4.2\n",
    "i=1\n",
    "while(i<11):\n",
    "    print(i)\n",
    "    i+=1"
   ]
  },
  {
   "cell_type": "code",
   "execution_count": 12,
   "id": "7ea82b78-3afe-4272-8efe-6ddca349cf5f",
   "metadata": {},
   "outputs": [
    {
     "name": "stdout",
     "output_type": "stream",
     "text": [
      "Sum from 1 to 100 is: 5050\n"
     ]
    }
   ],
   "source": [
    "# 4.3\n",
    "sum=0\n",
    "for i in range(1,101):\n",
    "    sum+=i\n",
    "print('Sum from 1 to 100 is:',sum)"
   ]
  },
  {
   "cell_type": "code",
   "execution_count": 15,
   "id": "67ffc8e9-9201-4cbb-b9d6-6fb5d5214a3f",
   "metadata": {},
   "outputs": [
    {
     "name": "stdout",
     "output_type": "stream",
     "text": [
      "Smallest Element is: 1\n",
      "largest Element is: 5\n"
     ]
    }
   ],
   "source": [
    "# 5.1\n",
    "l=[1,2,3,4,5]\n",
    "print('Smallest Element is:',min(l))\n",
    "print('largest Element is:',max(l))"
   ]
  },
  {
   "cell_type": "code",
   "execution_count": 16,
   "id": "a641b438-54ff-4461-9cb1-6aed801cd429",
   "metadata": {},
   "outputs": [
    {
     "name": "stdin",
     "output_type": "stream",
     "text": [
      "Enter the Key: One\n"
     ]
    },
    {
     "name": "stdout",
     "output_type": "stream",
     "text": [
      "Value of the entered Key: 1\n"
     ]
    }
   ],
   "source": [
    "# 5.2\n",
    "Dict={'One':1,'Two':2,'Three':3}\n",
    "key=input('Enter the Key:')\n",
    "print('Value of the entered Key:',Dict[key])"
   ]
  },
  {
   "cell_type": "code",
   "execution_count": 21,
   "id": "c8a266e4-2714-4a70-8fc5-03d9d60c752c",
   "metadata": {},
   "outputs": [
    {
     "name": "stdout",
     "output_type": "stream",
     "text": [
      "Enter the Values for a 5 integer type element list: \n"
     ]
    },
    {
     "name": "stdin",
     "output_type": "stream",
     "text": [
      "Enter the element 1 533\n",
      "Enter the element 2 343\n",
      "Enter the element 3 64\n",
      "Enter the element 4 32\n",
      "Enter the element 5 76\n"
     ]
    },
    {
     "name": "stdout",
     "output_type": "stream",
     "text": [
      "Your List: [533, 343, 64, 32, 76]\n",
      "Ascending sorted list [32, 64, 76, 343, 533]\n",
      "Descending sorted list [533, 343, 76, 64, 32]\n"
     ]
    }
   ],
   "source": [
    "# 5.3\n",
    "list=[]\n",
    "print('Enter the Values for a 5 integer type element list: ')\n",
    "for i in range(5):\n",
    "    element=int(input(f\"Enter the element {i+1}\"))\n",
    "    list.append(element)\n",
    "print(f'Your List: {list}')\n",
    "list.sort()\n",
    "print('Ascending sorted list',list)\n",
    "list.sort(reverse=True)\n",
    "print('Descending sorted list',list)"
   ]
  },
  {
   "cell_type": "code",
   "execution_count": 22,
   "id": "43bbf3f9-4886-477d-bdb9-d66535f9ad98",
   "metadata": {},
   "outputs": [
    {
     "name": "stdout",
     "output_type": "stream",
     "text": [
      "{'One': 1, 'Two': 2, 'Three': 3, 'Four': 4, 'Five': 5, 'Six': 6}\n"
     ]
    }
   ],
   "source": [
    "# 5.4\n",
    "Dict1={'One':1,'Two':2,'Three':3}\n",
    "Dict2={'Four':4,'Five':5,'Six':6}\n",
    "Dict1.update(Dict2)\n",
    "print(Dict1)"
   ]
  },
  {
   "cell_type": "code",
   "execution_count": 23,
   "id": "770f776d-fb79-4f99-8382-1f7c4e7527fe",
   "metadata": {},
   "outputs": [
    {
     "name": "stdin",
     "output_type": "stream",
     "text": [
      "Enter a string:  ihbvfiebIDFOVBOUS\n"
     ]
    },
    {
     "name": "stdout",
     "output_type": "stream",
     "text": [
      "No.of Vowels:  7\n"
     ]
    }
   ],
   "source": [
    "# 6.1\n",
    "string=input('Enter a string: ')\n",
    "count=0\n",
    "vowels='aeiouAEIOU'\n",
    "for char in string:\n",
    "    if char in vowels:\n",
    "        count+=1\n",
    "print('No.of Vowels: ',count)"
   ]
  },
  {
   "cell_type": "raw",
   "id": "6d56fc7c-5f39-467a-b678-de0670adbece",
   "metadata": {},
   "source": [
    "# 6.2\n",
    "string2=input('Enter a string: ')\n",
    "reversestring=string2[::-1]\n",
    "print('Reverse of the string is: ',reversestring)"
   ]
  },
  {
   "cell_type": "code",
   "execution_count": 32,
   "id": "b657513d-cbb3-4ef3-8065-6c3643c847a7",
   "metadata": {},
   "outputs": [
    {
     "name": "stdin",
     "output_type": "stream",
     "text": [
      "Enter a string:  hiih\n"
     ]
    },
    {
     "name": "stdout",
     "output_type": "stream",
     "text": [
      "It is a Pallindrome\n"
     ]
    }
   ],
   "source": [
    "# 6.3\n",
    "string3=input('Enter a string: ')\n",
    "\n",
    "if string3 == string3[::-1]:\n",
    "    print('It is a Pallindrome')\n",
    "else:\n",
    "    print('It is not a Pallindrome')"
   ]
  },
  {
   "cell_type": "code",
   "execution_count": 37,
   "id": "6eab1ae5-b914-44d4-a00b-7a0b175586f8",
   "metadata": {},
   "outputs": [
    {
     "name": "stdout",
     "output_type": "stream",
     "text": [
      "hi this a text file.\n"
     ]
    }
   ],
   "source": [
    "# 7.1\n",
    "with open('file.txt','w') as file:\n",
    "    file.write('hi this a text file.')\n",
    "with open('file.txt','r') as file:\n",
    "    text=file.read()\n",
    "print(text)"
   ]
  },
  {
   "cell_type": "code",
   "execution_count": 38,
   "id": "11047a2a-29ca-4710-93c2-f4270d2fe27f",
   "metadata": {},
   "outputs": [
    {
     "name": "stdout",
     "output_type": "stream",
     "text": [
      "hi this a text file.\n",
      "this a the next line.\n"
     ]
    }
   ],
   "source": [
    "# 7.2\n",
    "with open('file.txt','a') as file:\n",
    "    file.write('\\nthis a the next line.')\n",
    "with open('file.txt','r') as file:\n",
    "    text=file.read()\n",
    "print(text)"
   ]
  },
  {
   "cell_type": "code",
   "execution_count": 40,
   "id": "a8db3a92-7c60-4be1-8512-00fa187e51f7",
   "metadata": {},
   "outputs": [
    {
     "name": "stdout",
     "output_type": "stream",
     "text": [
      "2\n"
     ]
    }
   ],
   "source": [
    "# 7.3\n",
    "with open('file.txt', \"r\") as file:\n",
    "    line_count = len(file.readlines())\n",
    "print(line_count)"
   ]
  },
  {
   "cell_type": "code",
   "execution_count": 42,
   "id": "47bafed6-5430-4052-90b8-629aca022753",
   "metadata": {},
   "outputs": [
    {
     "name": "stdout",
     "output_type": "stream",
     "text": [
      "Invalid!! Division by Zero.\n"
     ]
    }
   ],
   "source": [
    "# 8.1\n",
    "try:\n",
    "    a=30/0\n",
    "except ZeroDivisionError:\n",
    "    print('Invalid!! Division by Zero.')"
   ]
  },
  {
   "cell_type": "code",
   "execution_count": null,
   "id": "9528dcfb-8275-4685-9e8c-5f6fd016623a",
   "metadata": {},
   "outputs": [],
   "source": [
    "# 8.2\n",
    "try:\n",
    "    number = int(input(\"Enter a number: \"))\n",
    "    print(\"You entered:\",number)\n",
    "except ValueError:\n",
    "    print(\"Invalid!! Please enter a valid number.\")"
   ]
  },
  {
   "cell_type": "code",
   "execution_count": 49,
   "id": "3d03a773-6467-4c33-8075-1b14f0393c3d",
   "metadata": {},
   "outputs": [
    {
     "name": "stdin",
     "output_type": "stream",
     "text": [
      "Enter a number:  df\n"
     ]
    },
    {
     "name": "stdout",
     "output_type": "stream",
     "text": [
      "Invalid!! Please enter a valid number.\n",
      "Always Execute!!\n"
     ]
    }
   ],
   "source": [
    "# 8.3\n",
    "try:\n",
    "    number = int(input(\"Enter a number: \"))\n",
    "    print(\"You entered:\",number)\n",
    "except ValueError:\n",
    "    print(\"Invalid!! Please enter a valid number.\")\n",
    "finally:\n",
    "    print('Always Execute!!')"
   ]
  },
  {
   "cell_type": "code",
   "execution_count": 50,
   "id": "72bf521e-b8c9-4b25-beee-ab4d199dfb24",
   "metadata": {},
   "outputs": [
    {
     "name": "stdout",
     "output_type": "stream",
     "text": [
      "81\n",
      "90\n",
      "39\n",
      "19\n",
      "22\n"
     ]
    }
   ],
   "source": [
    "# 9.1\n",
    "import random\n",
    "for i in range(5):\n",
    "    print(random.randint(1,101))\n",
    "    "
   ]
  },
  {
   "cell_type": "code",
   "execution_count": 72,
   "id": "3a17a66c-725d-45c9-a51c-6de0081aee8e",
   "metadata": {},
   "outputs": [
    {
     "name": "stdout",
     "output_type": "stream",
     "text": [
      "492 is not a prime number.\n"
     ]
    }
   ],
   "source": [
    "# 9.2\n",
    "number=random.randint(1,1000)\n",
    "\n",
    "if number <= 1:\n",
    "    print(f\"{number} is not a prime number.\")\n",
    "else:\n",
    "    flag = True\n",
    "    for i in range(2, int(number**0.5) + 1):  \n",
    "        if number % i == 0:\n",
    "            flag = False\n",
    "            break\n",
    "    if flag:\n",
    "        print(f\"{number} is a prime number.\")\n",
    "    else:\n",
    "        print(f\"{number} is not a prime number.\")\n"
   ]
  },
  {
   "cell_type": "code",
   "execution_count": 75,
   "id": "8838a7ef-3066-40ef-926a-64b2e70bffa5",
   "metadata": {
    "scrolled": true
   },
   "outputs": [
    {
     "name": "stdout",
     "output_type": "stream",
     "text": [
      "Dice is showing: 5\n"
     ]
    }
   ],
   "source": [
    "# 9.3\n",
    "print(f\"Dice is showing: {random.randint(1,7)}\")"
   ]
  },
  {
   "cell_type": "code",
   "execution_count": 77,
   "id": "2bfb2949-d2a6-4399-ba27-6e7ea15a6941",
   "metadata": {},
   "outputs": [
    {
     "name": "stdout",
     "output_type": "stream",
     "text": [
      "[2, 1, 4, 5, 3]\n"
     ]
    }
   ],
   "source": [
    "# 9.4\n",
    "list1 = [1,2,3,4,5]\n",
    "\n",
    "random.shuffle(list1)\n",
    "print(list1)"
   ]
  },
  {
   "cell_type": "code",
   "execution_count": 78,
   "id": "bf5ba16c-1c6a-44b0-bdd5-484795d75c5f",
   "metadata": {},
   "outputs": [
    {
     "name": "stdout",
     "output_type": "stream",
     "text": [
      "4\n"
     ]
    }
   ],
   "source": [
    "# 9.5\n",
    "print(random.choice(list1))"
   ]
  },
  {
   "cell_type": "code",
   "execution_count": 81,
   "id": "21d6faf2-8adc-4d4b-b1df-1a3d97062a62",
   "metadata": {},
   "outputs": [
    {
     "name": "stdin",
     "output_type": "stream",
     "text": [
      "Enter the desired password length:  12\n"
     ]
    },
    {
     "name": "stdout",
     "output_type": "stream",
     "text": [
      "Generated password: Ua+0Vh2QM0MN\n"
     ]
    }
   ],
   "source": [
    "# 9.6\n",
    "import string\n",
    "length = int(input(\"Enter the desired password length: \"))\n",
    "characters = string.ascii_letters + string.digits + string.punctuation\n",
    "password = ''.join(random.choice(characters) for _ in range(length))\n",
    "print(f\"Generated password: {password}\")"
   ]
  },
  {
   "cell_type": "code",
   "execution_count": 83,
   "id": "858ef527-0a81-4555-ad07-bfa3fcfe7348",
   "metadata": {},
   "outputs": [
    {
     "name": "stdout",
     "output_type": "stream",
     "text": [
      "Card: 10 of Spades\n"
     ]
    }
   ],
   "source": [
    "# 9.7\n",
    "shapes = [\"Hearts\", \"Diamonds\", \"Clubs\", \"Spades\"]\n",
    "numbers = [\"2\", \"3\", \"4\", \"5\", \"6\", \"7\", \"8\", \"9\", \"10\", \"Jack\", \"Queen\", \"King\", \"Ace\"]\n",
    "\n",
    "deck = []\n",
    "for shape in shapes:\n",
    "    for number in numbers:\n",
    "        card=f\"{number} of {shape}\"\n",
    "        deck.append(card)\n",
    "print(f\"Card: {random.choice(deck)}\")"
   ]
  },
  {
   "cell_type": "code",
   "execution_count": 90,
   "id": "44d3a488-9153-4bf7-af38-b5832f66795f",
   "metadata": {},
   "outputs": [
    {
     "name": "stdout",
     "output_type": "stream",
     "text": [
      "The sum of -f and C:\\Users\\pulki\\AppData\\Roaming\\jupyter\\runtime\\kernel-d8fa221e-83a9-4e85-b75b-1888565905ee.json is -fC:\\Users\\pulki\\AppData\\Roaming\\jupyter\\runtime\\kernel-d8fa221e-83a9-4e85-b75b-1888565905ee.json\n"
     ]
    }
   ],
   "source": [
    "#10.1 and 10.2 are in Assignment_1_part[2].py file"
   ]
  },
  {
   "cell_type": "code",
   "execution_count": 99,
   "id": "1f97f2c1-e9a6-443a-88b6-598b63180f12",
   "metadata": {},
   "outputs": [
    {
     "name": "stdin",
     "output_type": "stream",
     "text": [
      "Enter a number:  4\n"
     ]
    },
    {
     "name": "stdout",
     "output_type": "stream",
     "text": [
      "Sqrt of 4 is 2.0\n"
     ]
    }
   ],
   "source": [
    "# 11.1\n",
    "import math\n",
    "n=int(input(\"Enter a number: \"))\n",
    "print(f'Sqrt of {n} is {round(math.sqrt(n),2)}')"
   ]
  },
  {
   "cell_type": "code",
   "execution_count": 108,
   "id": "7107c7ba-c746-4325-bd9f-039668d1282d",
   "metadata": {},
   "outputs": [
    {
     "name": "stdout",
     "output_type": "stream",
     "text": [
      "Date and Time:  2025-01-12 20:13:40.385795\n"
     ]
    }
   ],
   "source": [
    "# 11.2\n",
    "from datetime import datetime as dt\n",
    "print('Date and Time: ',dt.now())"
   ]
  },
  {
   "cell_type": "code",
   "execution_count": 109,
   "id": "ccc72cd0-6f4e-4e55-883f-02cf63b37863",
   "metadata": {},
   "outputs": [
    {
     "name": "stdout",
     "output_type": "stream",
     "text": [
      "Files in the current directory:\n",
      ".ipynb_checkpoints\n",
      "Assignment_1_part[2].py\n",
      "file.txt\n",
      "Untitled.ipynb\n"
     ]
    }
   ],
   "source": [
    "import os\n",
    "files = os.listdir()\n",
    "print(\"Files in the current directory:\")\n",
    "for file in files:\n",
    "    print(file)"
   ]
  },
  {
   "cell_type": "code",
   "execution_count": null,
   "id": "2f0b0d33-65e1-461d-ad88-8dc9ecab824a",
   "metadata": {},
   "outputs": [],
   "source": []
  }
 ],
 "metadata": {
  "kernelspec": {
   "display_name": "Python 3 (ipykernel)",
   "language": "python",
   "name": "python3"
  },
  "language_info": {
   "codemirror_mode": {
    "name": "ipython",
    "version": 3
   },
   "file_extension": ".py",
   "mimetype": "text/x-python",
   "name": "python",
   "nbconvert_exporter": "python",
   "pygments_lexer": "ipython3",
   "version": "3.12.6"
  }
 },
 "nbformat": 4,
 "nbformat_minor": 5
}
