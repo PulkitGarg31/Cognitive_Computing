{
 "cells": [
  {
   "cell_type": "code",
   "execution_count": 26,
   "id": "4e3a017e-9066-44d7-8496-9aff264e7db1",
   "metadata": {},
   "outputs": [
    {
     "name": "stdout",
     "output_type": "stream",
     "text": [
      "Actual list is [10, 20, 30, 40, 50, 60, 70, 80]\n",
      "List after adding 200 and 300 : [10, 20, 30, 40, 50, 60, 70, 80, 200, 300]\n",
      "List after removing 10 and 30: [20, 40, 50, 60, 70, 80, 200, 300]\n",
      "Ascending Sorted List:  [20, 40, 50, 60, 70, 80, 200, 300]\n",
      "Descending Sorted List:  [300, 200, 80, 70, 60, 50, 40, 20]\n"
     ]
    }
   ],
   "source": [
    "# 1\n",
    "L =[10, 20, 30, 40, 50, 60, 70, 80]\n",
    "print(\"Actual list is\",L)\n",
    "# (i)\n",
    "L.extend([200,300])\n",
    "print(\"List after adding 200 and 300 :\",L)\n",
    "# (ii)\n",
    "L.remove(10)\n",
    "L.remove(30)\n",
    "print(\"List after removing 10 and 30:\",L)\n",
    "# (iii)\n",
    "L.sort()\n",
    "print(\"Ascending Sorted List: \",L)\n",
    "# (iv)\n",
    "L.sort(reverse=True)\n",
    "print(\"Descending Sorted List: \",L)"
   ]
  },
  {
   "cell_type": "code",
   "execution_count": 27,
   "id": "e33e2ac9-cc43-4c54-9dd1-83a1adc75706",
   "metadata": {},
   "outputs": [
    {
     "name": "stdout",
     "output_type": "stream",
     "text": [
      "Scores Tuple: (45, 89.5, 76, 45.4, 89, 92, 58, 45)\n",
      "Highest score: 92\n",
      "Index of highest score: 5\n",
      "Lowest score: 45\n",
      "Count of lowest score: 2\n",
      "Reversed tuple as a list: [45, 58, 92, 89, 45.4, 76, 89.5, 45]\n"
     ]
    },
    {
     "name": "stdin",
     "output_type": "stream",
     "text": [
      "Enter the score to find:  92\n"
     ]
    },
    {
     "name": "stdout",
     "output_type": "stream",
     "text": [
      "The index of the score 92 is: 5\n"
     ]
    }
   ],
   "source": [
    "# 2\n",
    "scores = (45, 89.5, 76, 45.4, 89, 92, 58, 45)\n",
    "print(\"Scores Tuple:\", scores)\n",
    "\n",
    "# (i) \n",
    "max_element = max(scores)\n",
    "print(f\"Highest score: {max_element}\")\n",
    "print(f\"Index of highest score: {scores.index(max_element)}\")\n",
    "\n",
    "# (ii)\n",
    "min_element = min(scores)\n",
    "print(f\"Lowest score: {min_element}\")\n",
    "print(f\"Count of lowest score: {scores.count(min_element)}\")\n",
    "\n",
    "# (iii) \n",
    "reversed_scores = list(reversed(scores))\n",
    "print(f\"Reversed tuple as a list: {reversed_scores}\")\n",
    "\n",
    "# (iv)\n",
    "key = int(input(\"Enter the score to find: \"))\n",
    "\n",
    "if key in scores:\n",
    "    print(f\"The index of the score {key} is: {scores.index(key)}\")\n",
    "else:\n",
    "    print(f\"The score {key} is not present in the tuple.\")\n"
   ]
  },
  {
   "cell_type": "code",
   "execution_count": 15,
   "id": "27101626-52d8-43d3-89cf-5e095c49ac22",
   "metadata": {},
   "outputs": [
    {
     "name": "stdout",
     "output_type": "stream",
     "text": [
      "No.of odd elemnts: 48\n",
      "[137, 867, 735, 607, 637, 343, 143, 531, 225, 503, 567, 487, 211, 199, 879, 723, 901, 143, 585, 365, 653, 119, 697, 391, 459, 107, 661, 805, 779, 451, 601, 233, 605, 313, 357, 665, 759, 329, 489, 119, 113, 585, 447, 363, 449, 809, 737, 347]\n",
      "\n",
      "\n",
      "No.of even elemnts: 52\n",
      "[292, 244, 358, 392, 592, 316, 210, 228, 266, 508, 430, 412, 622, 392, 334, 282, 504, 528, 502, 270, 374, 446, 692, 754, 510, 614, 228, 688, 224, 728, 446, 422, 494, 352, 804, 612, 118, 666, 266, 348, 104, 750, 266, 708, 874, 714, 776, 564, 264, 722, 362, 786]\n",
      "\n",
      "\n",
      "No.of prime elemnts: 16\n",
      "[137, 607, 503, 487, 211, 199, 653, 107, 661, 601, 233, 313, 113, 449, 809, 347]\n"
     ]
    }
   ],
   "source": [
    "#3:\n",
    "\n",
    "import random\n",
    "l = []\n",
    "for num in range(100):\n",
    "    l.append(random.randint(100,901))\n",
    "\n",
    "# (i) All odd numbers\n",
    "\n",
    "odd_nums = [number for number in l if number % 2 != 0]\n",
    "print('No.of odd elemnts:', len(odd_nums))\n",
    "print(odd_nums)\n",
    "\n",
    "# (ii) All even numbers\n",
    "print(\"\\n\")\n",
    "even_nums = [number for number in l if number % 2 == 0]\n",
    "print('No.of even elemnts:', len(even_nums))\n",
    "print(even_nums)\n",
    "\n",
    "# (iii) All prime numbers\n",
    "\n",
    "print('\\n')\n",
    "prime_nums = [num for num in l if num >1 and all(num % i != 0 for i in range(2, int(num ** 0.5) + 1))]\n",
    "print('No.of prime elemnts:', len(prime_nums))\n",
    "print(prime_nums)"
   ]
  },
  {
   "cell_type": "code",
   "execution_count": 28,
   "id": "d6056d94-9072-48c4-a8d4-16dd16e2d4dc",
   "metadata": {},
   "outputs": [
    {
     "name": "stdout",
     "output_type": "stream",
     "text": [
      "Set A: {56, 34, 90, 78}\n",
      "Set B: {90, 45, 78, 23}\n",
      "Unique scores (Union): {34, 45, 78, 23, 56, 90}\n",
      "Common scores (Intersection): {90, 78}\n",
      "Exclusive scores (Symmetric Difference): {34, 45, 23, 56}\n",
      "Is A a subset of B? False\n",
      "Is B a superset of A? False\n"
     ]
    },
    {
     "name": "stdin",
     "output_type": "stream",
     "text": [
      "Enter the score to be removed from A:  67\n"
     ]
    },
    {
     "name": "stdout",
     "output_type": "stream",
     "text": [
      "67 is not present in Set A.\n"
     ]
    }
   ],
   "source": [
    "# 4\n",
    "A = {34, 56, 78, 90}\n",
    "B = {78, 45, 90, 23}\n",
    "\n",
    "print(\"Set A:\", A)\n",
    "print(\"Set B:\", B)\n",
    "\n",
    "# (i) \n",
    "print(\"Unique scores (Union):\", A.union(B))\n",
    "\n",
    "# (ii) Intersection of sets\n",
    "print(\"Common scores (Intersection):\", A.intersection(B))\n",
    "\n",
    "# (iii) Symmetric difference of sets\n",
    "print(\"Exclusive scores (Symmetric Difference):\", A.symmetric_difference(B))\n",
    "\n",
    "# (iv) Subset and superset relationships\n",
    "print(\"Is A a subset of B?\", A.issubset(B))\n",
    "print(\"Is B a superset of A?\", B.issuperset(A))\n",
    "\n",
    "# (v) Remove a specific score from set A if it exists\n",
    "X = int(input(\"Enter the score to be removed from A: \"))\n",
    "if X in A:\n",
    "    A.remove(X)\n",
    "    print(f\"{X} is removed from A. Updated Set A:\", A)\n",
    "else:\n",
    "    print(f\"{X} is not present in Set A.\")\n"
   ]
  },
  {
   "cell_type": "code",
   "execution_count": 29,
   "id": "1bb78edb-5a81-45ba-aede-3255d41414fb",
   "metadata": {},
   "outputs": [
    {
     "name": "stdout",
     "output_type": "stream",
     "text": [
      "Dictonary:  {'name': 'kelly', 'age': 25, 'salary': 8000, 'city': 'New york'}\n",
      "Dictonary after changes:  {'name': 'kelly', 'age': 25, 'salary': 8000, 'location': 'New york'}\n"
     ]
    }
   ],
   "source": [
    "# 5\n",
    "sample_dict = {\n",
    "    \"name\" : \"kelly\",\n",
    "    \"age\" : 25,\n",
    "    \"salary\": 8000,\n",
    "    \"city\": \"New york\"\n",
    "}\n",
    "print(\"Dictonary: \",sample_dict)\n",
    "sample_dict[\"location\"] = sample_dict[\"city\"]\n",
    "del sample_dict[\"city\"]\n",
    "print(\"Dictonary after changes: \",sample_dict)\n"
   ]
  },
  {
   "cell_type": "code",
   "execution_count": null,
   "id": "8f376b36-cee1-4fc2-a0e5-13ab28181c3d",
   "metadata": {},
   "outputs": [],
   "source": []
  }
 ],
 "metadata": {
  "kernelspec": {
   "display_name": "Python 3 (ipykernel)",
   "language": "python",
   "name": "python3"
  },
  "language_info": {
   "codemirror_mode": {
    "name": "ipython",
    "version": 3
   },
   "file_extension": ".py",
   "mimetype": "text/x-python",
   "name": "python",
   "nbconvert_exporter": "python",
   "pygments_lexer": "ipython3",
   "version": "3.12.6"
  }
 },
 "nbformat": 4,
 "nbformat_minor": 5
}
